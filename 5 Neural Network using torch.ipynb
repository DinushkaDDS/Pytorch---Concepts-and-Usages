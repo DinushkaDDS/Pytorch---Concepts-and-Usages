{
 "cells": [
  {
   "cell_type": "markdown",
   "metadata": {},
   "source": [
    "# Neural networks with Pytorch\n",
    "\n",
    "Pytorch's real speciality comes when we are designing neural networks. To do that pytorch provides torch.nn module. The usage of it for simple neural network is as follows."
   ]
  },
  {
   "cell_type": "code",
   "execution_count": 2,
   "metadata": {},
   "outputs": [],
   "source": [
    "import torch.nn as nn\n",
    "import matplotlib.pyplot as plt\n",
    "import numpy as np\n",
    "import torch"
   ]
  },
  {
   "cell_type": "code",
   "execution_count": 13,
   "metadata": {},
   "outputs": [],
   "source": [
    "t_c = [0.5, 14.0, 15.0, 28.0, 11.0, 8.0, 3.0, -4.0, 6.0, 13.0, 21.0]\n",
    "t_u = [35.7, 55.9, 58.2, 81.9, 56.3, 48.9, 33.9, 21.8, 48.4, 60.4, 68.4]\n",
    "t_c = torch.tensor(t_c)\n",
    "t_u = torch.tensor(t_u)"
   ]
  },
  {
   "cell_type": "code",
   "execution_count": 100,
   "metadata": {},
   "outputs": [
    {
     "data": {
      "text/plain": [
       "tensor([[34.4013],\n",
       "        [53.6678],\n",
       "        [55.8615],\n",
       "        [78.4662],\n",
       "        [54.0493]], grad_fn=<AddmmBackward0>)"
      ]
     },
     "execution_count": 100,
     "metadata": {},
     "output_type": "execute_result"
    }
   ],
   "source": [
    "t_un_val = t_u[0:5].unsqueeze(1) # Getting a batch of input data in right format.\n",
    "linear_model = nn.Linear(1, 1) # Defining a linear model with 1 feature input and 1 output.\n",
    "linear_model(t_un_val)"
   ]
  },
  {
   "cell_type": "code",
   "execution_count": 101,
   "metadata": {},
   "outputs": [
    {
     "data": {
      "text/plain": [
       "Parameter containing:\n",
       "tensor([[0.9538]], requires_grad=True)"
      ]
     },
     "execution_count": 101,
     "metadata": {},
     "output_type": "execute_result"
    }
   ],
   "source": [
    "linear_model.weight"
   ]
  },
  {
   "cell_type": "code",
   "execution_count": 102,
   "metadata": {},
   "outputs": [
    {
     "data": {
      "text/plain": [
       "Parameter containing:\n",
       "tensor([0.3512], requires_grad=True)"
      ]
     },
     "execution_count": 102,
     "metadata": {},
     "output_type": "execute_result"
    }
   ],
   "source": [
    "linear_model.bias"
   ]
  },
  {
   "cell_type": "markdown",
   "metadata": {},
   "source": [
    "So with the above details in mind, we can train a model on our data as follows."
   ]
  },
  {
   "cell_type": "code",
   "execution_count": 104,
   "metadata": {},
   "outputs": [],
   "source": [
    "linear_model = nn.Linear(1, 1)\n",
    "optimizer = torch.optim.SGD(linear_model.parameters(), lr = 1e-2)"
   ]
  },
  {
   "cell_type": "code",
   "execution_count": 112,
   "metadata": {},
   "outputs": [],
   "source": [
    "def training_loop(n_iter, optimizer, model, loss_fn, input_val, true_val):\n",
    "\n",
    "    for i in range(1, n_iter+1):\n",
    "        preds = model(input_val)\n",
    "        error = loss_fn(preds, true_val)\n",
    "\n",
    "        optimizer.zero_grad()\n",
    "        error.backward()\n",
    "        optimizer.step()\n",
    "\n",
    "        if(i%500==0):\n",
    "            print(f\"Iteration {i} completed with error value of {error}\")"
   ]
  },
  {
   "cell_type": "markdown",
   "metadata": {},
   "source": [
    "Here note the way we have done the forward pass and backpropagation. For the error calculation we have used MSELoss object as below."
   ]
  },
  {
   "cell_type": "code",
   "execution_count": 113,
   "metadata": {},
   "outputs": [
    {
     "name": "stdout",
     "output_type": "stream",
     "text": [
      "Iteration 500 completed with error value of 2.927680015563965\n",
      "Iteration 1000 completed with error value of 2.9276506900787354\n",
      "Iteration 1500 completed with error value of 2.9276468753814697\n",
      "Iteration 2000 completed with error value of 2.927645683288574\n",
      "Iteration 2500 completed with error value of 2.9276459217071533\n",
      "Iteration 3000 completed with error value of 2.927645206451416\n"
     ]
    }
   ],
   "source": [
    "training_loop(3000, optimizer, linear_model, nn.MSELoss(), (t_u*0.1).unsqueeze(1), t_c.unsqueeze(1))"
   ]
  },
  {
   "cell_type": "code",
   "execution_count": 114,
   "metadata": {},
   "outputs": [
    {
     "data": {
      "text/plain": [
       "Parameter containing:\n",
       "tensor([[5.3676]], requires_grad=True)"
      ]
     },
     "execution_count": 114,
     "metadata": {},
     "output_type": "execute_result"
    }
   ],
   "source": [
    "linear_model.weight"
   ]
  },
  {
   "cell_type": "code",
   "execution_count": 115,
   "metadata": {},
   "outputs": [
    {
     "data": {
      "text/plain": [
       "Parameter containing:\n",
       "tensor([-17.3042], requires_grad=True)"
      ]
     },
     "execution_count": 115,
     "metadata": {},
     "output_type": "execute_result"
    }
   ],
   "source": [
    "linear_model.bias"
   ]
  },
  {
   "cell_type": "markdown",
   "metadata": {},
   "source": [
    "Now lets try to make our model bit complex by adding another layer with non linearity function."
   ]
  },
  {
   "cell_type": "code",
   "execution_count": 117,
   "metadata": {},
   "outputs": [
    {
     "data": {
      "text/plain": [
       "Sequential(\n",
       "  (0): Linear(in_features=1, out_features=13, bias=True)\n",
       "  (1): Tanh()\n",
       "  (2): Linear(in_features=13, out_features=1, bias=True)\n",
       ")"
      ]
     },
     "execution_count": 117,
     "metadata": {},
     "output_type": "execute_result"
    }
   ],
   "source": [
    "seq_model = nn.Sequential(nn.Linear(1, 13), nn.Tanh(), nn.Linear(13, 1))\n",
    "seq_model"
   ]
  },
  {
   "cell_type": "code",
   "execution_count": 118,
   "metadata": {},
   "outputs": [
    {
     "name": "stdout",
     "output_type": "stream",
     "text": [
      "Iteration 500 completed with error value of 13.556865692138672\n",
      "Iteration 1000 completed with error value of 4.3830461502075195\n",
      "Iteration 1500 completed with error value of 2.8981070518493652\n",
      "Iteration 2000 completed with error value of 3.2336199283599854\n",
      "Iteration 2500 completed with error value of 2.56559681892395\n",
      "Iteration 3000 completed with error value of 2.2086708545684814\n",
      "Iteration 3500 completed with error value of 2.0127408504486084\n",
      "Iteration 4000 completed with error value of 1.9087016582489014\n",
      "Iteration 4500 completed with error value of 1.8605220317840576\n",
      "Iteration 5000 completed with error value of 1.846612811088562\n"
     ]
    }
   ],
   "source": [
    "optimizer = torch.optim.SGD(seq_model.parameters(), lr=1e-3)\n",
    "\n",
    "training_loop(5000, optimizer, seq_model, nn.MSELoss(), (t_u*0.1).unsqueeze(1), t_c.unsqueeze(1))"
   ]
  },
  {
   "cell_type": "code",
   "execution_count": 122,
   "metadata": {},
   "outputs": [
    {
     "name": "stdout",
     "output_type": "stream",
     "text": [
      "0.weight Parameter containing:\n",
      "tensor([[ 0.4746],\n",
      "        [ 0.3836],\n",
      "        [ 0.5416],\n",
      "        [-0.2952],\n",
      "        [-0.3671],\n",
      "        [-0.3398],\n",
      "        [-0.3841],\n",
      "        [-0.2686],\n",
      "        [ 0.5572],\n",
      "        [ 0.2556],\n",
      "        [-0.2377],\n",
      "        [ 0.3369],\n",
      "        [ 0.2430]], requires_grad=True)\n",
      "0.bias Parameter containing:\n",
      "tensor([-3.0327, -2.3930,  0.1535,  0.5494,  2.2717,  0.0535, -0.1637, -0.6447,\n",
      "        -3.6018,  0.7447,  0.8626,  0.0419, -0.7606], requires_grad=True)\n",
      "2.weight Parameter containing:\n",
      "tensor([[ 3.5603,  2.9926,  1.5933, -2.4701, -2.9108, -2.0583, -2.2032, -1.7633,\n",
      "          4.2308,  1.7592, -1.9548,  1.8415,  2.1390]], requires_grad=True)\n",
      "2.bias Parameter containing:\n",
      "tensor([1.8131], requires_grad=True)\n"
     ]
    }
   ],
   "source": [
    "for name, param in seq_model.named_parameters():\n",
    "    print(name, param)"
   ]
  },
  {
   "cell_type": "code",
   "execution_count": 134,
   "metadata": {},
   "outputs": [
    {
     "data": {
      "text/plain": [
       "[<matplotlib.lines.Line2D at 0x1fc54ae3430>]"
      ]
     },
     "execution_count": 134,
     "metadata": {},
     "output_type": "execute_result"
    },
    {
     "data": {
      "image/png": "[encoded data removed]",
      "text/plain": [
       "<Figure size 432x288 with 1 Axes>"
      ]
     },
     "metadata": {
      "needs_background": "light"
     },
     "output_type": "display_data"
    }
   ],
   "source": [
    "t_range = torch.arange(20., 90.).unsqueeze(1)\n",
    "\n",
    "\n",
    "fig = plt.figure()\n",
    "\n",
    "# Predictions plot and general model\n",
    "plt.plot(t_u.numpy(), seq_model((0.1 * t_u).unsqueeze(1)).detach().numpy(), 'kx')\n",
    "plt.plot(t_range.numpy(), seq_model(0.1 * t_range).detach().numpy())\n",
    "\n",
    "# True values plot\n",
    "plt.plot(t_u.numpy(), t_c.numpy(), 'o')"
   ]
  },
  {
   "cell_type": "code",
   "execution_count": null,
   "metadata": {},
   "outputs": [],
   "source": []
  },
  {
   "cell_type": "code",
   "execution_count": null,
   "metadata": {},
   "outputs": [],
   "source": []
  }
 ],
 "metadata": {
  "kernelspec": {
   "display_name": "Python 3.9.7 ('Pytorch_-_Use_Case_Exploration-FSDBtUdB')",
   "language": "python",
   "name": "python3"
  },
  "language_info": {
   "codemirror_mode": {
    "name": "ipython",
    "version": 3
   },
   "file_extension": ".py",
   "mimetype": "text/x-python",
   "name": "python",
   "nbconvert_exporter": "python",
   "pygments_lexer": "ipython3",
   "version": "3.9.7"
  },
  "orig_nbformat": 4,
  "vscode": {
   "interpreter": {
    "hash": "1153c933a691d5b7872e50b0da6113c7d23c17547b77ca34e6f51a7318bb0ae8"
   }
  }
 },
 "nbformat": 4,
 "nbformat_minor": 2
}
