{
 "cells": [
  {
   "cell_type": "markdown",
   "metadata": {},
   "source": [
    "# Converting common data to tensor objects\n",
    "\n",
    "### Images to tensors\n",
    "\n",
    "As we know images can be considered as multidimensional arrays and can be passed to tensor constructor without much of an issue."
   ]
  },
  {
   "cell_type": "code",
   "execution_count": 14,
   "metadata": {},
   "outputs": [],
   "source": [
    "from PIL import Image\n",
    "import numpy as np\n",
    "import torch"
   ]
  },
  {
   "cell_type": "code",
   "execution_count": 16,
   "metadata": {},
   "outputs": [
    {
     "data": {
      "text/plain": [
       "torch.Size([940, 718, 3])"
      ]
     },
     "execution_count": 16,
     "metadata": {},
     "output_type": "execute_result"
    }
   ],
   "source": [
    "img = Image.open('imgs/1.jpg')\n",
    "\n",
    "# First method\n",
    "img_tensor = torch.tensor(np.array(img))\n",
    "img_tensor.shape"
   ]
  },
  {
   "cell_type": "code",
   "execution_count": 18,
   "metadata": {},
   "outputs": [
    {
     "data": {
      "text/plain": [
       "torch.Size([940, 718, 3])"
      ]
     },
     "execution_count": 18,
     "metadata": {},
     "output_type": "execute_result"
    }
   ],
   "source": [
    "img_tensor = torch.from_numpy(np.array(img))\n",
    "img_tensor.shape"
   ]
  },
  {
   "cell_type": "markdown",
   "metadata": {},
   "source": [
    "We can change the layout of image dimensions by using the `permute` function. This is useful if we need to get the channel as the first dimension instead of a others. (H x W x C --> C x H x W)"
   ]
  },
  {
   "cell_type": "code",
   "execution_count": null,
   "metadata": {},
   "outputs": [],
   "source": [
    "img_tensor.permute(2,0,1)"
   ]
  },
  {
   "cell_type": "markdown",
   "metadata": {},
   "source": [
    "It should be noted that, this does not change the undeline storage. Instead it manupulate the tensor from view level. Because of that if original image change, output from the above function would also change.\n",
    "\n",
    "> If theres multiple images (most certainly if you are doing machine learning!) we need to read data as batches. So there will be additional dimension to the dataset.\n",
    "\n",
    "After building the dataset in tensor format, we can do all kinds of mathematical operations. One of the most common such operation done on image data is Normalization. Example normalization process using pytorch is given below."
   ]
  },
  {
   "cell_type": "code",
   "execution_count": 21,
   "metadata": {},
   "outputs": [],
   "source": [
    "img_tensor_norm = img_tensor/255 # Simply dividing by 255 as this is the maximum value we expect from a image"
   ]
  },
  {
   "cell_type": "markdown",
   "metadata": {},
   "source": [
    "If we have a batch of image data, we can normalize the data using standard deviation and mean using `torch.mean and torch.std`.\n",
    "\n",
    "Those same techniques can be applied to 3D data as well (such as CT scans). Its just additional dimension that normal RGB image."
   ]
  },
  {
   "cell_type": "markdown",
   "metadata": {},
   "source": [
    "### Tabular data\n",
    "\n",
    "This basically means Table like data structure. (So pandas!). And since as pytorch expect numerical data we need to convert any string/ categorical data to a number like format. Normal issues we have when using tabular data to ML usecase apply here. So need to fix them accordingly. "
   ]
  },
  {
   "cell_type": "markdown",
   "metadata": {},
   "source": [
    "### Time Series Data\n",
    "\n",
    "This is technically like tabular data, but with rigid ordering of the data points. Therefore relationship between data points need to take seriously. In other data manipulation tool, there are special data stuctures to hold time series data (like in pandas time index or R language time series data). Instead we can treat Time as an additional dimension and transform data accordingly(like we do to RNNs input data). "
   ]
  },
  {
   "cell_type": "code",
   "execution_count": null,
   "metadata": {},
   "outputs": [],
   "source": []
  },
  {
   "cell_type": "code",
   "execution_count": null,
   "metadata": {},
   "outputs": [],
   "source": []
  },
  {
   "cell_type": "code",
   "execution_count": null,
   "metadata": {},
   "outputs": [],
   "source": []
  },
  {
   "cell_type": "code",
   "execution_count": null,
   "metadata": {},
   "outputs": [],
   "source": []
  },
  {
   "cell_type": "code",
   "execution_count": null,
   "metadata": {},
   "outputs": [],
   "source": []
  },
  {
   "cell_type": "code",
   "execution_count": null,
   "metadata": {},
   "outputs": [],
   "source": []
  },
  {
   "cell_type": "code",
   "execution_count": null,
   "metadata": {},
   "outputs": [],
   "source": []
  },
  {
   "cell_type": "code",
   "execution_count": null,
   "metadata": {},
   "outputs": [],
   "source": []
  }
 ],
 "metadata": {
  "kernelspec": {
   "display_name": "Python 3.9.7 ('Pytorch_-_Use_Case_Exploration-FSDBtUdB')",
   "language": "python",
   "name": "python3"
  },
  "language_info": {
   "codemirror_mode": {
    "name": "ipython",
    "version": 3
   },
   "file_extension": ".py",
   "mimetype": "text/x-python",
   "name": "python",
   "nbconvert_exporter": "python",
   "pygments_lexer": "ipython3",
   "version": "3.9.7"
  },
  "orig_nbformat": 4,
  "vscode": {
   "interpreter": {
    "hash": "1153c933a691d5b7872e50b0da6113c7d23c17547b77ca34e6f51a7318bb0ae8"
   }
  }
 },
 "nbformat": 4,
 "nbformat_minor": 2
}
