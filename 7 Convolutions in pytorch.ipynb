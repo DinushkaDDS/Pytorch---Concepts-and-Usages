{
 "cells": [
  {
   "cell_type": "markdown",
   "metadata": {},
   "source": [
    "# Convolution Neural Nets using Pytorch\n",
    "\n",
    "Convolutions are considerably old yet still valid ML technique used in Machine Vision related Deep Learning space. I am not going to theories, but basically we consider number of windows (kernals) to train on the provided data. This is very useful in Image related tasks as images have spacial(locality) features."
   ]
  },
  {
   "cell_type": "code",
   "execution_count": 1,
   "metadata": {},
   "outputs": [],
   "source": [
    "import torch\n",
    "import numpy as np\n",
    "import matplotlib.pyplot as plot"
   ]
  },
  {
   "cell_type": "code",
   "execution_count": 2,
   "metadata": {},
   "outputs": [],
   "source": [
    "from torchvision import datasets\n",
    "from torchvision import transforms\n",
    "\n",
    "data_path = \"datasets/\""
   ]
  },
  {
   "cell_type": "code",
   "execution_count": 3,
   "metadata": {},
   "outputs": [],
   "source": [
    "cifar10_tensors_t = datasets.CIFAR10( data_path, \n",
    "                                    train=True, \n",
    "                                    download=False, \n",
    "                                    transform=\n",
    "                                        transforms.Compose([\n",
    "                                            transforms.ToTensor()\n",
    "                                        ]))"
   ]
  },
  {
   "cell_type": "code",
   "execution_count": 4,
   "metadata": {},
   "outputs": [],
   "source": [
    "cifar10_tensors_val_t = datasets.CIFAR10( data_path, \n",
    "                                    train=False, \n",
    "                                    download=False, \n",
    "                                    transform=\n",
    "                                        transforms.Compose([\n",
    "                                            transforms.ToTensor()\n",
    "                                        ]))"
   ]
  },
  {
   "cell_type": "code",
   "execution_count": 5,
   "metadata": {},
   "outputs": [],
   "source": [
    "cifar_birdplane = [(img, min(label, 1))\n",
    "                        for img, label in cifar10_tensors_t\n",
    "                                if label in [0, 2]]\n",
    "\n",
    "cifar_birdplane_val = [(img, min(label, 1))\n",
    "                        for img, label in cifar10_tensors_val_t\n",
    "                            if label in [0, 2]]"
   ]
  },
  {
   "cell_type": "markdown",
   "metadata": {},
   "source": [
    "Since we now have the dataset, lets look in to the Convolution network building using pytorch. As we know tensorflow convolution network are super easy to use. They have a class type in which we can define num of kernals and other kernal related parameters (if needed input dimensions).\n",
    "\n",
    "Pytorch also has similar structure, but as developer we need to define the dimesional values along with all the other parameters(kernal size, stride, output shape etc). This is good for learning and research purposes, but kinda less intuitive for well defined usecase IMO(means tensorflow is easier to use). Anyhow sample usage is as follows."
   ]
  },
  {
   "cell_type": "code",
   "execution_count": 6,
   "metadata": {},
   "outputs": [],
   "source": [
    "import torch.nn as nn"
   ]
  },
  {
   "cell_type": "code",
   "execution_count": 7,
   "metadata": {},
   "outputs": [
    {
     "data": {
      "text/plain": [
       "Conv2d(3, 16, kernel_size=(3, 3), stride=(1, 1))"
      ]
     },
     "execution_count": 7,
     "metadata": {},
     "output_type": "execute_result"
    }
   ],
   "source": [
    "conv = nn.Conv2d(3, 16, kernel_size=3)\n",
    "conv"
   ]
  },
  {
   "cell_type": "markdown",
   "metadata": {},
   "source": [
    "Here first parameter value is input feature channel (depth) size. In RGB images we have 3 channels, so convolutional channel should have value 3 for that. Next is out channel size. We can define this to our requirement.\n",
    "\n",
    "So now we have 16, 3x3 size kernals to process 3 input channels which means this layer should have 3x3x3x16 weight parameters with another 16 bias values."
   ]
  },
  {
   "cell_type": "code",
   "execution_count": 8,
   "metadata": {},
   "outputs": [
    {
     "data": {
      "text/plain": [
       "(torch.Size([16, 3, 3, 3]), torch.Size([16]))"
      ]
     },
     "execution_count": 8,
     "metadata": {},
     "output_type": "execute_result"
    }
   ],
   "source": [
    "conv.weight.shape, conv.bias.shape"
   ]
  },
  {
   "cell_type": "markdown",
   "metadata": {},
   "source": [
    "Below, shows the dimensions of output image. typical stuff. In tensorflow, nearby layers can automatically calculate input parameters (except in the start) when defined in chained fashion. But in pytorch we need to define input shapes for all layers. (Which is bit annoying!) So we need to keep track of layer output shapes."
   ]
  },
  {
   "cell_type": "code",
   "execution_count": 9,
   "metadata": {},
   "outputs": [
    {
     "data": {
      "text/plain": [
       "(torch.Size([1, 3, 32, 32]), torch.Size([1, 16, 30, 30]))"
      ]
     },
     "execution_count": 9,
     "metadata": {},
     "output_type": "execute_result"
    }
   ],
   "source": [
    "img, _ = cifar_birdplane[0]\n",
    "convoluted_img = conv(img.unsqueeze(0))\n",
    "\n",
    "img.unsqueeze(0).shape, convoluted_img.shape"
   ]
  },
  {
   "cell_type": "markdown",
   "metadata": {},
   "source": [
    "We can plot the convoluted image like below. Here `detach` is required because pytorch tries to calculate gradient map (graph building) for that function, which may cause problems."
   ]
  },
  {
   "cell_type": "code",
   "execution_count": 14,
   "metadata": {},
   "outputs": [
    {
     "data": {
      "image/png": "[encoded data removed]",
      "text/plain": [
       "<Figure size 432x288 with 1 Axes>"
      ]
     },
     "metadata": {
      "needs_background": "light"
     },
     "output_type": "display_data"
    }
   ],
   "source": [
    "plot.imshow(img[0], cmap='gray')\n",
    "plot.show()"
   ]
  },
  {
   "cell_type": "code",
   "execution_count": 12,
   "metadata": {},
   "outputs": [
    {
     "data": {
      "image/png": "[encoded data removed]",
      "text/plain": [
       "<Figure size 432x288 with 1 Axes>"
      ]
     },
     "metadata": {
      "needs_background": "light"
     },
     "output_type": "display_data"
    }
   ],
   "source": [
    "plot.imshow(convoluted_img[0, 0].detach(), cmap='gray')\n",
    "plot.show()"
   ]
  },
  {
   "cell_type": "markdown",
   "metadata": {},
   "source": [
    "Also we are given with other parameters like padding to adjust the sizes of the output as usual.\n",
    "\n",
    "Lets revert back the weight values and biases for the next step."
   ]
  },
  {
   "cell_type": "code",
   "execution_count": 15,
   "metadata": {},
   "outputs": [],
   "source": [
    "with torch.no_grad():\n",
    "    conv.bias.zero_()\n",
    "\n",
    "with torch.no_grad():\n",
    "    conv.weight.fill_(1.0 / 9.0)"
   ]
  },
  {
   "cell_type": "markdown",
   "metadata": {},
   "source": [
    "Before going to implementation, there's another important note to be understand. That is in convolution networks, we have translational invariant and locality invariant. Since convoltional kernals move it provides translational invariant to some extent. But not locality invariant. Most of the features in different images differ in their location and their sizes. To fix this issue we can use a kernal with the full width of original image. But then we loose the computational advantage because of the large number of processing we have to do.\n",
    "\n",
    "> It should be noted, above claims are paraphrased from the book I am referring. Stacking layers is effective and there are no arguments against it, but whether it provides locality invariance I am not sure. Reason is after each convolution we get slightly different image(matrix) to process, and I am not sure how they do claim locality invariance is preserved by stacking and downsampling such different images. Nevertherless interpretation is interesting and worth more read!\n",
    "\n",
    "We cant use different size kernals in same layer due to practical issues (I feel like this is possible though, hmm interesting!). Instead we can make the convolutional layers stack one another and downsample in each successive ones! To do that we can use pooling layers.\n",
    "\n"
   ]
  },
  {
   "cell_type": "code",
   "execution_count": 17,
   "metadata": {},
   "outputs": [
    {
     "data": {
      "text/plain": [
       "(torch.Size([1, 3, 32, 32]), torch.Size([1, 3, 16, 16]))"
      ]
     },
     "execution_count": 17,
     "metadata": {},
     "output_type": "execute_result"
    }
   ],
   "source": [
    "pool = nn.MaxPool2d(2)\n",
    "pooled_img = pool(img.unsqueeze(0))\n",
    "\n",
    "img.unsqueeze(0).shape, pooled_img.shape"
   ]
  },
  {
   "cell_type": "markdown",
   "metadata": {},
   "source": [
    "As you can see image size is reduced by half using the pooling method. \n",
    "\n",
    "We can combine this technique and convolutions to achieve better results as follows."
   ]
  },
  {
   "cell_type": "code",
   "execution_count": null,
   "metadata": {},
   "outputs": [],
   "source": [
    "# Do not run, Incorrect code\n",
    "\n",
    "model = nn.Sequential(\n",
    "                        nn.Conv2d(3, 16, kernel_size=3, padding=1),\n",
    "                        nn.Tanh(),\n",
    "                        nn.MaxPool2d(2),\n",
    "                        nn.Conv2d(16, 8, kernel_size=3, padding=1),\n",
    "                        nn.Tanh(),\n",
    "                        nn.MaxPool2d(2),\n",
    "                        view(-1, 8 * 8 * 8) # <-- Note this line, here we need to reshape the data.\n",
    "                        nn.Linear(8 * 8 * 8, 32),\n",
    "                        nn.Tanh(),\n",
    "                        nn.Linear(32, 2)\n",
    "                    )"
   ]
  },
  {
   "cell_type": "markdown",
   "metadata": {},
   "source": [
    "In deep convolutional networks after convolution to classify the output, we need to have linear layers. But then we are required to flatten the outputs (In tensorflow terms) or reshape the view. But unfortunately we cant do that in tensorflow.nn.Sequential type models. Instead we need to create our own class which inherit from nn.Module.\n",
    "\n"
   ]
  },
  {
   "cell_type": "code",
   "execution_count": null,
   "metadata": {},
   "outputs": [],
   "source": []
  },
  {
   "cell_type": "code",
   "execution_count": null,
   "metadata": {},
   "outputs": [],
   "source": []
  },
  {
   "cell_type": "code",
   "execution_count": null,
   "metadata": {},
   "outputs": [],
   "source": []
  },
  {
   "cell_type": "code",
   "execution_count": null,
   "metadata": {},
   "outputs": [],
   "source": []
  },
  {
   "cell_type": "code",
   "execution_count": null,
   "metadata": {},
   "outputs": [],
   "source": []
  },
  {
   "cell_type": "code",
   "execution_count": null,
   "metadata": {},
   "outputs": [],
   "source": []
  }
 ],
 "metadata": {
  "kernelspec": {
   "display_name": "Python 3.9.7 ('Pytorch_-_Use_Case_Exploration-FSDBtUdB')",
   "language": "python",
   "name": "python3"
  },
  "language_info": {
   "codemirror_mode": {
    "name": "ipython",
    "version": 3
   },
   "file_extension": ".py",
   "mimetype": "text/x-python",
   "name": "python",
   "nbconvert_exporter": "python",
   "pygments_lexer": "ipython3",
   "version": "3.9.7"
  },
  "orig_nbformat": 4,
  "vscode": {
   "interpreter": {
    "hash": "1153c933a691d5b7872e50b0da6113c7d23c17547b77ca34e6f51a7318bb0ae8"
   }
  }
 },
 "nbformat": 4,
 "nbformat_minor": 2
}
