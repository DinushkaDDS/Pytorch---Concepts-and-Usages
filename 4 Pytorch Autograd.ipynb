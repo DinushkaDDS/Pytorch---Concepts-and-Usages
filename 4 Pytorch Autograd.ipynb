{
 "cells": [
  {
   "cell_type": "markdown",
   "metadata": {},
   "source": [
    "# Pytorch Autograd\n",
    "\n",
    "Deep Learning means basically estimating some parameters set that would map a given input data distribution to a output distribution in an acceptable manner. No matter what the usecase is, in general sense this is what we try to achieve.\n",
    "\n",
    "But as we know this require linear algebra and differenciation (means maths), and pytorch inherently support these mathematical operations.\n",
    "\n",
    "To understand how these are working, lets check on a simple example."
   ]
  },
  {
   "cell_type": "code",
   "execution_count": 1,
   "metadata": {},
   "outputs": [],
   "source": [
    "import torch\n",
    "import matplotlib.pyplot as plt\n",
    "import numpy as np"
   ]
  },
  {
   "cell_type": "markdown",
   "metadata": {},
   "source": [
    "Here assume we have a set of values `t_c` which should some how relate to another set of values `t_u`. Now our task is to identify the relationship between 2 such that if we have a `t_c` value we can predict the corresponding `t_u` value."
   ]
  },
  {
   "cell_type": "code",
   "execution_count": 2,
   "metadata": {},
   "outputs": [],
   "source": [
    "t_c = [0.5, 14.0, 15.0, 28.0, 11.0, 8.0, 3.0, -4.0, 6.0, 13.0, 21.0]\n",
    "t_u = [35.7, 55.9, 58.2, 81.9, 56.3, 48.9, 33.9, 21.8, 48.4, 60.4, 68.4]\n",
    "t_c = torch.tensor(t_c)\n",
    "t_u = torch.tensor(t_u)"
   ]
  },
  {
   "cell_type": "code",
   "execution_count": 10,
   "metadata": {},
   "outputs": [
    {
     "data": {
      "image/png": "[encoded data removed]",
      "text/plain": [
       "<Figure size 432x288 with 1 Axes>"
      ]
     },
     "metadata": {
      "needs_background": "light"
     },
     "output_type": "display_data"
    }
   ],
   "source": [
    "fig, ax = plt.subplots()\n",
    "ax.scatter(t_u, t_c)\n",
    "plt.show()"
   ]
  },
  {
   "cell_type": "markdown",
   "metadata": {},
   "source": [
    "We can this linear model would fit here. So now what we do is basically try to fix a random linear model to this data and see how much error it would yield compared to actual data. From that error value we can identify how much we want to rectify our parameters."
   ]
  },
  {
   "cell_type": "code",
   "execution_count": 12,
   "metadata": {},
   "outputs": [],
   "source": [
    "def model(input_vals, w, b):\n",
    "    return w*input_vals + b\n",
    "\n",
    "def calc_error(pred_vals, true_vals):\n",
    "    return ((pred_vals-true_vals)**2).mean() # Since we are using tensors, or we can use numpy functions here."
   ]
  },
  {
   "cell_type": "markdown",
   "metadata": {},
   "source": [
    "So now we have a model and a way to calculate errors. But to improve our model so that we can get lower error rate we need to do something else. Basically we have to get how each parameters effect the error outcome and adjust the parameters to reduce that effect. (Error minimization using derivative - gradient descent)"
   ]
  },
  {
   "cell_type": "code",
   "execution_count": 23,
   "metadata": {},
   "outputs": [],
   "source": [
    "def d_error_pred(pred_vals, true_vals):\n",
    "    diff = 2*(pred_vals-true_vals)/pred_vals.size(0)\n",
    "    return diff\n",
    "\n",
    "# linear function derivative over b\n",
    "def d_pred_b(pred_vals, b):\n",
    "    return 1.0\n",
    "\n",
    "# linear function derivative over w\n",
    "def d_pred_w(pred_vals, w):\n",
    "    return pred_vals\n",
    "\n",
    "def grad_calculation(pred_vals, true_vals, params):\n",
    "    w, b = params\n",
    "    d_l_p = d_error_pred(pred_vals, true_vals)\n",
    "\n",
    "    d_p_b = d_pred_b(pred_vals, b)\n",
    "    d_p_w = d_pred_w(pred_vals, w)\n",
    "\n",
    "    # partial derivatives of Loss\n",
    "    d_l_w = d_l_p*d_p_w\n",
    "    d_l_b = d_l_p*d_p_b\n",
    "\n",
    "    return torch.stack([d_l_w.sum(), d_l_b.sum()])"
   ]
  },
  {
   "cell_type": "markdown",
   "metadata": {},
   "source": [
    "If you wonder why we are separately calculating the differenciation functions for this is simple linear equation, answer is for demonstration. The above separation of differentiation is due to partial derivatives for error function.\n",
    "\n",
    "<center><image src=\"./contents/1.jpg\" width=\"500px\"/></center>\n",
    "\n",
    "\n",
    "As you can probably remember in DL there are annoyingly large number of notations and these notations cause various confusions (like outputs after activations A, layers l, outputs before activations z etc). So to be aligned with those notations above calculations were done."
   ]
  },
  {
   "cell_type": "code",
   "execution_count": 47,
   "metadata": {},
   "outputs": [],
   "source": [
    "def training_loop(n_iter, learning_rate, params, input_vals, true_vals):\n",
    "    \n",
    "    for i in range(n_iter):\n",
    "        w, b = params\n",
    "        preds = model(input_vals, w, b)\n",
    "        error = calc_error(preds, true_vals)\n",
    "\n",
    "        # Backpropagation or differenciation process\n",
    "        gradients = grad_calculation(preds, true_vals, params)\n",
    "\n",
    "        # Updating parameters to compensate for error gradients\n",
    "        params = params - learning_rate*gradients\n",
    "\n",
    "        if(i%500==0):\n",
    "            print(f\"Iteration {i+1} completed with error value of {error} and gradient {gradients}\")\n",
    "\n",
    "    return params"
   ]
  },
  {
   "cell_type": "code",
   "execution_count": 40,
   "metadata": {},
   "outputs": [
    {
     "name": "stdout",
     "output_type": "stream",
     "text": [
      "Iteration 1 completed with error value of 1763.884765625 and gradient tensor([4517.2964,   82.6000])\n",
      "Iteration 11 completed with error value of 33.027652740478516 and gradient tensor([57.7695,  6.8204])\n"
     ]
    },
    {
     "data": {
      "text/plain": [
       "tensor([ 0.2484, -0.0257])"
      ]
     },
     "execution_count": 40,
     "metadata": {},
     "output_type": "execute_result"
    }
   ],
   "source": [
    "training_loop(15, 1e-4, torch.tensor([1.0, 0.0]), t_u, t_c)"
   ]
  },
  {
   "cell_type": "markdown",
   "metadata": {},
   "source": [
    "This is what basically happens in Machine learning or Deep Learning in general. But points to note is that if we use larger learning rate lets say 1e-2 then the error will not converge. Not only that if we print out the gradients in each iterations we can see the values are large. These are potential problems we need to fix or mitigate.\n",
    "\n",
    "To do that, we can change learning rate or normalize input data (typical ML techniques)."
   ]
  },
  {
   "cell_type": "code",
   "execution_count": 50,
   "metadata": {},
   "outputs": [
    {
     "name": "stdout",
     "output_type": "stream",
     "text": [
      "Iteration 1 completed with error value of 80.36434173583984 and gradient tensor([-77.6140, -10.6400])\n",
      "Iteration 501 completed with error value of 5.08172607421875 and gradient tensor([-0.2655,  1.5892])\n",
      "Iteration 1001 completed with error value of 2.984950065612793 and gradient tensor([-0.0461,  0.2944])\n",
      "Iteration 1501 completed with error value of 2.9287469387054443 and gradient tensor([-0.0064,  0.0416])\n",
      "Iteration 2001 completed with error value of 2.927666664123535 and gradient tensor([-0.0008,  0.0056])\n",
      "Iteration 2501 completed with error value of 2.927645683288574 and gradient tensor([-0.0001,  0.0008])\n",
      "Iteration 3001 completed with error value of 2.927644968032837 and gradient tensor([-2.3007e-05,  9.2626e-05])\n",
      "Iteration 3501 completed with error value of 2.927644968032837 and gradient tensor([-2.3007e-05,  9.2626e-05])\n",
      "Iteration 4001 completed with error value of 2.927644968032837 and gradient tensor([-2.3007e-05,  9.2626e-05])\n",
      "Iteration 4501 completed with error value of 2.927644968032837 and gradient tensor([-2.3007e-05,  9.2626e-05])\n"
     ]
    }
   ],
   "source": [
    "t_un = 0.1*t_u\n",
    "trained_params = training_loop(5000, 1e-2, torch.tensor([1.0, 0.0]), t_un, t_c)"
   ]
  },
  {
   "cell_type": "markdown",
   "metadata": {},
   "source": [
    "We can see that values converge significantly and output values greatly match the input values to output values."
   ]
  },
  {
   "cell_type": "code",
   "execution_count": 53,
   "metadata": {},
   "outputs": [
    {
     "data": {
      "text/plain": [
       "[<matplotlib.lines.Line2D at 0x24955f51490>]"
      ]
     },
     "execution_count": 53,
     "metadata": {},
     "output_type": "execute_result"
    },
    {
     "data": {
      "image/png": "[encoded data removed]",
      "text/plain": [
       "<Figure size 432x288 with 1 Axes>"
      ]
     },
     "metadata": {
      "needs_background": "light"
     },
     "output_type": "display_data"
    }
   ],
   "source": [
    "#predictions on trained params\n",
    "t_p = model(t_un, trained_params[0], trained_params[1])\n",
    "\n",
    "\n",
    "fig = plt.figure()\n",
    "plt.plot(t_u.numpy(), t_p.detach().numpy())\n",
    "plt.plot(t_u.numpy(), t_c.numpy(), 'o')"
   ]
  },
  {
   "cell_type": "markdown",
   "metadata": {},
   "source": [
    "We can see that the trained parameters fit the input data very nicely. \n",
    "\n",
    "One of the major problems of implementations like above is we need to manually keep track of the operations and calculate the differentiation operations to calculate the error propagation throughout the functions. Our example is simple, so we could do the calculations ourselves. But in large networks this is not practical.\n",
    "\n",
    "To solve this issue pytorch tensors provide us with autagrad functionality. (Threory behind this is not complex, but you need to find correct materials unless you are super smart to understand everything by reading wikipedia notes. XD). Because of this no matter how nested the forward calculation function is we can easily find derivatives to a related parameters. (In tensorflow we use `GradientTape` context manager for this by the way.)\n",
    "\n",
    "Usage of autograd to our above problem is as below."
   ]
  },
  {
   "cell_type": "code",
   "execution_count": 4,
   "metadata": {},
   "outputs": [],
   "source": [
    "def model(input_vals, w, b):\n",
    "    return w*input_vals + b\n",
    "\n",
    "def calc_error(pred_vals, true_vals):\n",
    "    return ((pred_vals-true_vals)**2).mean() # Since we are using tensors, or we can use numpy functions here."
   ]
  },
  {
   "cell_type": "markdown",
   "metadata": {},
   "source": [
    "Notice the `requires_grad` parameter. This tells pytorch to keep track of all the graph of tensor operations built on top of the params tensors. So any tensor that originated from params can access the chain of functions which used to create itself."
   ]
  },
  {
   "cell_type": "code",
   "execution_count": 5,
   "metadata": {},
   "outputs": [],
   "source": [
    "params = torch.tensor([1.0, 0.0], requires_grad=True)"
   ]
  },
  {
   "cell_type": "code",
   "execution_count": 6,
   "metadata": {},
   "outputs": [
    {
     "data": {
      "text/plain": [
       "True"
      ]
     },
     "execution_count": 6,
     "metadata": {},
     "output_type": "execute_result"
    }
   ],
   "source": [
    "params.grad is None"
   ]
  },
  {
   "cell_type": "markdown",
   "metadata": {},
   "source": [
    "So now we have to do is do all the required operations and then call the backward function to calculate the gradients."
   ]
  },
  {
   "cell_type": "code",
   "execution_count": 7,
   "metadata": {},
   "outputs": [],
   "source": [
    "# pred_vals = model(t_u, *params)\n",
    "error = calc_error(model(t_u*0.1, *params), t_c)\n",
    "error.backward()"
   ]
  },
  {
   "cell_type": "code",
   "execution_count": 8,
   "metadata": {},
   "outputs": [
    {
     "data": {
      "text/plain": [
       "tensor([-77.6140, -10.6400])"
      ]
     },
     "execution_count": 8,
     "metadata": {},
     "output_type": "execute_result"
    }
   ],
   "source": [
    "params.grad"
   ]
  },
  {
   "cell_type": "markdown",
   "metadata": {},
   "source": [
    "As you can see, params now contain the error derivative with respective to the parameters.\n",
    "\n",
    "So demonstrated earlier we can calculate the derivative of any tensoe using `requires_grad` parameter.\n",
    "\n",
    "**But there's a catch!** backward function calculate and accumulate the gradients in each call. Which means if we call backward function multiple times leaf tensors will have inaccurate values. So we need to explicitly make the gradient to zero."
   ]
  },
  {
   "cell_type": "code",
   "execution_count": 10,
   "metadata": {},
   "outputs": [
    {
     "data": {
      "text/plain": [
       "tensor([1., 0.], requires_grad=True)"
      ]
     },
     "execution_count": 10,
     "metadata": {},
     "output_type": "execute_result"
    }
   ],
   "source": [
    "if params.grad is not None:\n",
    "    params.grad.zero_()\n",
    "params"
   ]
  },
  {
   "cell_type": "markdown",
   "metadata": {},
   "source": [
    "The usage of this technique for previous example is below."
   ]
  },
  {
   "cell_type": "code",
   "execution_count": 15,
   "metadata": {},
   "outputs": [],
   "source": [
    "def training_loop(n_iter, learning_rate, params, input_vals, true_vals):\n",
    "    \n",
    "    for i in range(n_iter):\n",
    "\n",
    "        if params.grad is not None:\n",
    "            params.grad.zero_()\n",
    "\n",
    "        w, b = params\n",
    "        preds = model(input_vals, w, b)\n",
    "        error = calc_error(preds, true_vals)\n",
    "\n",
    "        # Backpropagation or differenciation process\n",
    "        error.backward()\n",
    "\n",
    "        # Updating parameters to compensate for error gradients\n",
    "        with torch.no_grad():  # Have to use this condition to avoid graph building with param\n",
    "            params -= learning_rate * params.grad\n",
    "\n",
    "        if(i%500==0):\n",
    "            print(f\"Iteration {i+1} completed with error value of {error} and gradient {params.grad}\")\n",
    "\n",
    "    return params"
   ]
  },
  {
   "cell_type": "code",
   "execution_count": 18,
   "metadata": {},
   "outputs": [
    {
     "name": "stdout",
     "output_type": "stream",
     "text": [
      "Iteration 1 completed with error value of 80.36434173583984 and gradient tensor([-77.6140, -10.6400])\n",
      "Iteration 501 completed with error value of 7.843369007110596 and gradient tensor([-0.2248,  1.2726])\n",
      "Iteration 1001 completed with error value of 3.8254828453063965 and gradient tensor([-0.0961,  0.5439])\n",
      "Iteration 1501 completed with error value of 3.091630458831787 and gradient tensor([-0.0411,  0.2324])\n",
      "Iteration 2001 completed with error value of 2.9575960636138916 and gradient tensor([-0.0176,  0.0993])\n",
      "Iteration 2501 completed with error value of 2.9331159591674805 and gradient tensor([-0.0075,  0.0425])\n",
      "Iteration 3001 completed with error value of 2.9286458492279053 and gradient tensor([-0.0032,  0.0181])\n",
      "Iteration 3501 completed with error value of 2.9278290271759033 and gradient tensor([-0.0014,  0.0078])\n",
      "Iteration 4001 completed with error value of 2.9276793003082275 and gradient tensor([-0.0006,  0.0033])\n",
      "Iteration 4501 completed with error value of 2.927651882171631 and gradient tensor([-0.0002,  0.0014])\n"
     ]
    },
    {
     "data": {
      "text/plain": [
       "tensor([  5.3671, -17.3012], requires_grad=True)"
      ]
     },
     "execution_count": 18,
     "metadata": {},
     "output_type": "execute_result"
    }
   ],
   "source": [
    "training_loop(5000, 1e-2, torch.tensor([1.0, 0.0], requires_grad=True), t_un, t_c)"
   ]
  },
  {
   "cell_type": "markdown",
   "metadata": {},
   "source": [
    "This is very convenient as we only require to build the forward pass.\n",
    "\n",
    "\n",
    "Also additionally pytorch provides a submodule which provide different optimization algorithms."
   ]
  },
  {
   "cell_type": "code",
   "execution_count": 19,
   "metadata": {},
   "outputs": [
    {
     "data": {
      "text/plain": [
       "['ASGD',\n",
       " 'Adadelta',\n",
       " 'Adagrad',\n",
       " 'Adam',\n",
       " 'AdamW',\n",
       " 'Adamax',\n",
       " 'LBFGS',\n",
       " 'NAdam',\n",
       " 'Optimizer',\n",
       " 'RAdam',\n",
       " 'RMSprop',\n",
       " 'Rprop',\n",
       " 'SGD',\n",
       " 'SparseAdam',\n",
       " '__builtins__',\n",
       " '__cached__',\n",
       " '__doc__',\n",
       " '__file__',\n",
       " '__loader__',\n",
       " '__name__',\n",
       " '__package__',\n",
       " '__path__',\n",
       " '__spec__',\n",
       " '_functional',\n",
       " '_multi_tensor',\n",
       " 'lr_scheduler',\n",
       " 'swa_utils']"
      ]
     },
     "execution_count": 19,
     "metadata": {},
     "output_type": "execute_result"
    }
   ],
   "source": [
    "import torch.optim as optim\n",
    "\n",
    "dir(optim)"
   ]
  },
  {
   "cell_type": "markdown",
   "metadata": {},
   "source": [
    "So we can use this type optimizer to our models to improve efficiency."
   ]
  },
  {
   "cell_type": "code",
   "execution_count": 20,
   "metadata": {},
   "outputs": [
    {
     "data": {
      "text/plain": [
       "tensor([ 9.5483e-01, -8.2600e-04], requires_grad=True)"
      ]
     },
     "execution_count": 20,
     "metadata": {},
     "output_type": "execute_result"
    }
   ],
   "source": [
    "params = torch.tensor([1.0, 0.0], requires_grad=True)\n",
    "learning_rate = 1e-5\n",
    "optimizer = optim.SGD([params], lr=learning_rate)\n",
    "\n",
    "preds = model(t_u, *params)\n",
    "error = calc_error(preds, t_c)\n",
    "\n",
    "optimizer.zero_grad() # We need to manually reset optimizers as well!\n",
    "error.backward()\n",
    "optimizer.step()\n",
    "params"
   ]
  },
  {
   "cell_type": "markdown",
   "metadata": {},
   "source": [
    "As you can see, optmizers update the parameters without we having to manually adjust the parameter values (substract change).\n",
    "\n",
    "\n",
    "> In scenarios we need to make sure autograd is not in effect we can use `with torch.no_grad()` context manager or `with torch.set_grad_enabled(val)` context manager."
   ]
  },
  {
   "cell_type": "code",
   "execution_count": null,
   "metadata": {},
   "outputs": [],
   "source": []
  }
 ],
 "metadata": {
  "kernelspec": {
   "display_name": "Python 3.9.7 ('Pytorch_-_Use_Case_Exploration-FSDBtUdB')",
   "language": "python",
   "name": "python3"
  },
  "language_info": {
   "codemirror_mode": {
    "name": "ipython",
    "version": 3
   },
   "file_extension": ".py",
   "mimetype": "text/x-python",
   "name": "python",
   "nbconvert_exporter": "python",
   "pygments_lexer": "ipython3",
   "version": "3.9.7"
  },
  "orig_nbformat": 4,
  "vscode": {
   "interpreter": {
    "hash": "1153c933a691d5b7872e50b0da6113c7d23c17547b77ca34e6f51a7318bb0ae8"
   }
  }
 },
 "nbformat": 4,
 "nbformat_minor": 2
}
